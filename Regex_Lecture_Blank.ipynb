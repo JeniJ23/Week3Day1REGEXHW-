{
 "cells": [
  {
   "cell_type": "markdown",
   "metadata": {},
   "source": [
    "# Regular Expressions"
   ]
  },
  {
   "cell_type": "markdown",
   "metadata": {},
   "source": [
    "# Tasks today:\n",
    "1) <b>Importing</b> <br>\n",
    "2) <b>Using Regular Expressions</b> <br>\n",
    " &nbsp;&nbsp;&nbsp;&nbsp; a) re.compile() <br>\n",
    " &nbsp;&nbsp;&nbsp;&nbsp; b) re.match() <br>\n",
    " &nbsp;&nbsp;&nbsp;&nbsp; c) re.findall() <br>\n",
    " &nbsp;&nbsp;&nbsp;&nbsp; d) re.search() <br>\n",
    "3) <b>Sets</b> <br>\n",
    " &nbsp;&nbsp;&nbsp;&nbsp; a) Integer Ranges <br>\n",
    " &nbsp;&nbsp;&nbsp;&nbsp; b) Character Ranges <br>\n",
    "4) <b>Counting Occurences</b> <br>\n",
    " &nbsp;&nbsp;&nbsp;&nbsp; a) {x} <br>\n",
    " &nbsp;&nbsp;&nbsp;&nbsp; b) {, x} <br>\n",
    " &nbsp;&nbsp;&nbsp;&nbsp; c) {?} <br>\n",
    " &nbsp;&nbsp;&nbsp;&nbsp; d) {*} <br>\n",
    " &nbsp;&nbsp;&nbsp;&nbsp; e) {+} <br>\n",
    "5) <b>In-Class Exercise #1</b> <br>\n",
    "6) <b>Escaping Characters</b> <br>\n",
    "7) <b>Grouping</b> <br>\n",
    "8) <b>In-Class Exercise #2</b> <br>\n",
    "9) <b>Opening a File</b> <br>\n",
    " &nbsp;&nbsp;&nbsp;&nbsp; a) open() <br>\n",
    " &nbsp;&nbsp;&nbsp;&nbsp; b) with open() <br>\n",
    " &nbsp;&nbsp;&nbsp;&nbsp; c) re.match() <br>\n",
    " &nbsp;&nbsp;&nbsp;&nbsp; d) re.search() <br>\n",
    " &nbsp;&nbsp;&nbsp;&nbsp; e) Store the String in a Variable <br>\n",
    "10) <b>Regex Project</b> <br>"
   ]
  },
  {
   "cell_type": "markdown",
   "metadata": {},
   "source": [
    "### Importing <br>\n",
    "<p>Regular Expressions are universal throughout most programming languages... They are generally imported through the module 're'.</p>"
   ]
  },
  {
   "cell_type": "code",
   "execution_count": 1,
   "metadata": {},
   "outputs": [],
   "source": [
    "# import re\n",
    "import re"
   ]
  },
  {
   "cell_type": "markdown",
   "metadata": {},
   "source": [
    "### Using Regular Expressions <br>\n",
    "<p>Regular expressions give us the ability to search for patterns within text, strings, files, etc. They serve several uses, such as; security measures, searching, filtering, pattern recognition, and more...</p>"
   ]
  },
  {
   "cell_type": "markdown",
   "metadata": {},
   "source": [
    "##### re.compile()"
   ]
  },
  {
   "cell_type": "code",
   "execution_count": 2,
   "metadata": {},
   "outputs": [],
   "source": [
    "# using compile, predetermines the string to be used in regular expression methods\n",
    "pattern = re.compile ('thieves')"
   ]
  },
  {
   "cell_type": "markdown",
   "metadata": {},
   "source": [
    "##### re.match()"
   ]
  },
  {
   "cell_type": "code",
   "execution_count": 6,
   "metadata": {},
   "outputs": [
    {
     "name": "stdout",
     "output_type": "stream",
     "text": [
      "<re.Match object; span=(0, 7), match='thieves'>\n",
      "(0, 7)\n",
      "thieves\n"
     ]
    }
   ],
   "source": [
    "#match will produce a match object only if the pattern you are searching for is at the very beginning of your data\n",
    "\n",
    "pattern = re.compile('thieves')\n",
    "\n",
    "mymatch = pattern.match('thieves are going to crush regex')\n",
    "\n",
    "print(mymatch)\n",
    "\n",
    "print(mymatch.span())\n",
    "\n",
    "print(mymatch.group())"
   ]
  },
  {
   "cell_type": "markdown",
   "metadata": {},
   "source": [
    "##### re.findall()"
   ]
  },
  {
   "cell_type": "code",
   "execution_count": 8,
   "metadata": {},
   "outputs": [
    {
     "name": "stdout",
     "output_type": "stream",
     "text": [
      "['thieves']\n"
     ]
    }
   ],
   "source": [
    "#finds all strings that match your pattern and returns them in a list. *Capitalization does matter*\n",
    "\n",
    "pattern = re.compile('thieves')\n",
    "\n",
    "found = pattern.findall('There are thieves in the grasses of theives country')\n",
    "\n",
    "print(found)\n"
   ]
  },
  {
   "cell_type": "markdown",
   "metadata": {},
   "source": [
    "##### re.search()"
   ]
  },
  {
   "cell_type": "code",
   "execution_count": 11,
   "metadata": {},
   "outputs": [
    {
     "name": "stdout",
     "output_type": "stream",
     "text": [
      "<re.Match object; span=(10, 17), match='thieves'>\n",
      "(10, 17)\n",
      "thieves\n"
     ]
    }
   ],
   "source": [
    "# Search will find 1st instance of pattern and return a match object.\n",
    "\n",
    "pattern = re.compile('thieves')\n",
    "\n",
    "found = pattern.search('There are thieves among us')\n",
    "\n",
    "print(found)\n",
    "\n",
    "print(found.span())\n",
    "\n",
    "print(found.group())"
   ]
  },
  {
   "cell_type": "markdown",
   "metadata": {},
   "source": [
    "### Sets <br>\n",
    "<p>The following cells will allow you to use regular expressions to search for certain values within a range such as numbers 1 through 4.</p>"
   ]
  },
  {
   "cell_type": "markdown",
   "metadata": {},
   "source": [
    "##### [a-z] or [A-Z] - any lowercase/uppercase letters from a to z<br/>[^2] - anything that's not 2"
   ]
  },
  {
   "cell_type": "markdown",
   "metadata": {},
   "source": [
    "##### Integer Ranges"
   ]
  },
  {
   "cell_type": "code",
   "execution_count": 20,
   "metadata": {},
   "outputs": [
    {
     "name": "stdout",
     "output_type": "stream",
     "text": [
      "['4', '5', '6']\n",
      "['4', '5', '6']\n"
     ]
    }
   ],
   "source": [
    "#r = raw string\n",
    "nums = pattern.findall('Here are a couple of numbers 123 and thieves some more 456')\n",
    "\n",
    "#if\n",
    "pattern = re.compile(r'[0-9]')\n",
    "print(nums) \n",
    "ans ['1', '2', '3', '4', '5', '6']\n",
    "\n",
    "#if\n",
    "pattern = re.compile(r'[4-6]')                    \n",
    "print(nums)\n",
    "ans ['4', '5', '6']\n",
    "\n",
    "#if\n",
    "pattern = re.compile(r'[0-9][0-9]')\n",
    "nums = pattern.findall('here are a couple of numbers 12 and then some more 456')\n",
    "print(nums)\n",
    "ans ['12', '45']\n",
    "\n",
    "#if\n",
    "pattern = re.compile(r'[0-9][0-9]')\n",
    "nums = pattern.findall('here are a couple of numbers 12 and then some more 4567')\n",
    "print(nums)\n",
    "ans ['12', '45', '67']\n",
    "\n",
    "#if\n",
    "pattern = re.compile(r'[0-2][0-9]')\n",
    "nums = pattern.findall('here are a couple of numbers 12 and then some more 456')\n",
    "print(nums)\n",
    "ans ['12']\n",
    "\n"
   ]
  },
  {
   "cell_type": "markdown",
   "metadata": {},
   "source": [
    "##### Character Ranges"
   ]
  },
  {
   "cell_type": "code",
   "execution_count": 22,
   "metadata": {},
   "outputs": [
    {
     "name": "stdout",
     "output_type": "stream",
     "text": [
      "['e', 'l', 'c', 'o', 'm', 'e', 't', 'o', 't', 'h', 'i', 's', 'c', 'l', 'a', 's', 's']\n"
     ]
    }
   ],
   "source": [
    "pattern = re.compile(r'[a-z]')\n",
    "\n",
    "matches = pattern.findall('Welcome to this class EVERYONE')\n",
    "\n",
    "print(matches)\n",
    "\n",
    "['e', 'l', 'c', 'o', 'm', 'e', 't', 'o', 't', 'h', 'i', 's', 'c', 'l', 'a', 's', 's']\n",
    "\n",
    "#if\n",
    "pattern = re.compile(r'[A-Z]')\n",
    "print(matches)\n",
    "ans = ['W','E','V','E','R','Y','O','N','E']\n",
    "\n",
    "#if \n",
    "pattern = re.compile(r'[A-Z][a-z]')\n",
    "print(matches)\n",
    "ans ['We']\n",
    "\n",
    "#if \n",
    "pattern = re.compile(r'[A-Z][a-zA-Z]') or (r'[A-Z][A-z]')\n",
    "print(matches)\n",
    "ans ['We','EV','ER','YO, NE']\n"
   ]
  },
  {
   "cell_type": "markdown",
   "metadata": {},
   "source": [
    "### Counting Occurences"
   ]
  },
  {
   "cell_type": "markdown",
   "metadata": {},
   "source": [
    "##### {x} - something that occurs {num_of_times}"
   ]
  },
  {
   "cell_type": "code",
   "execution_count": 24,
   "metadata": {},
   "outputs": [
    {
     "name": "stdout",
     "output_type": "stream",
     "text": [
      "['123', '098']\n"
     ]
    }
   ],
   "source": [
    "#if\n",
    "pattern = re.compile(r'[0-9]{3}')\n",
    "\n",
    "matches = pattern.findall('some nums 123 and more 098')\n",
    "\n",
    "print(matches) \n",
    "\n",
    "\n",
    "#if there was white spaces between r' and [], then: \n",
    "pattern = re.compile(r' [0-9]{3}')\n",
    "\n",
    "matches = pattern.findall('some nums 123 and more098')\n",
    "\n",
    "print(matches) \n",
    "ans ['123']"
   ]
  },
  {
   "cell_type": "markdown",
   "metadata": {},
   "source": [
    "##### {x, x} - something that occurs between x and x times"
   ]
  },
  {
   "cell_type": "code",
   "execution_count": 25,
   "metadata": {},
   "outputs": [
    {
     "name": "stdout",
     "output_type": "stream",
     "text": [
      "['1', '12', '123', '123', '4']\n"
     ]
    }
   ],
   "source": [
    "#if\n",
    "pattern = re.compile(r'[0-9]{1,3}')\n",
    "\n",
    "matches = pattern.findall('1 12 123 1234')\n",
    "\n",
    "print(matches)\n",
    "ans  ['1', '12', '123', '123', '4']"
   ]
  },
  {
   "cell_type": "markdown",
   "metadata": {},
   "source": [
    "##### ? - something that occurs 0 or 1 time"
   ]
  },
  {
   "cell_type": "code",
   "execution_count": 28,
   "metadata": {},
   "outputs": [
    {
     "name": "stdout",
     "output_type": "stream",
     "text": [
      "['Mr', 'Mrs']\n"
     ]
    }
   ],
   "source": [
    "#if there is only 1 occurences\n",
    "pattern = re.compile(r'Mrs?')\n",
    "\n",
    "matches = pattern.findall('Hello Mr.Katina, How is the Mrs.')\n",
    "\n",
    "print(matches)\n",
    "\n",
    "ans ['Mr', 'Mrs']\n",
    "\n",
    "#if\n",
    "pattern = re.compile(r'Mrs?')\n",
    "\n",
    "matches = pattern.findall('Hello Mr.Katina, How is the Mrsssssss.')\n",
    "\n",
    "print(matches)\n",
    "\n",
    "ans same as above ['Mr', 'Mrs'] \n",
    "\n",
    "#if\n",
    "pattern = re.compile(r'they\\'?re')\n",
    "\n",
    "matches = pattern.findall('they\\'re')\n",
    "\n",
    "print(matches)\n",
    "\n",
    "ans ['they're'] \n"
   ]
  },
  {
   "cell_type": "markdown",
   "metadata": {},
   "source": [
    "##### * - something that occurs at least 0 times"
   ]
  },
  {
   "cell_type": "code",
   "execution_count": 29,
   "metadata": {},
   "outputs": [
    {
     "name": "stdout",
     "output_type": "stream",
     "text": [
      "['Mr', 'Mrs']\n"
     ]
    }
   ],
   "source": [
    "#if 0 to inifinte occurences\n",
    "pattern = re.compile(r'Mrs*')\n",
    "\n",
    "matches = pattern.findall('Hello Mr.Katina, How is the Mrs?')\n",
    "\n",
    "print(matches)\n",
    "\n",
    "['Mr', 'Mrs']\n",
    " \n",
    "#if \n",
    "pattern = re.compile(r'Mrs*')\n",
    "\n",
    "matches = pattern.findall('Hello Mr.Katina, How is the Mrssssssssssssssssssss?')\n",
    "\n",
    "print(matches)\n",
    "\n",
    "ans['Mr', 'Mrsssssssssssssssssssss']\n",
    "\n",
    "#if \n",
    "pattern = re.compile(r'Mr[a-z]*')\n",
    "\n",
    "matches = pattern.findall('Hello Mr.Katina, How is the Mrslkgthtnv?')\n",
    "\n",
    "print(matches)\n",
    "\n",
    "ans['Mr', 'Mrslkgthtnv']\n",
    "\n",
    "#if \n",
    "pattern = re.compile(r'Mr[o-z]*')\n",
    "\n",
    "matches = pattern.findall('Hello Mr.Katina, How is the Mrsrquvwxyzklfghj?')\n",
    "\n",
    "print(matches)\n",
    "\n",
    "ans['Mr', 'Mrsrquvwxyz']\n"
   ]
  },
  {
   "cell_type": "markdown",
   "metadata": {},
   "source": [
    "##### + - something that occurs at least once"
   ]
  },
  {
   "cell_type": "code",
   "execution_count": 30,
   "metadata": {},
   "outputs": [
    {
     "name": "stdout",
     "output_type": "stream",
     "text": [
      "['Mrs']\n"
     ]
    }
   ],
   "source": [
    "#if 1 to inifinte occurences\n",
    "\n",
    "pattern = re.compile(r'Mrs+')\n",
    "\n",
    "matches = pattern.findall('Hello Mr.Katina, How is the Mrs.?')\n",
    "\n",
    "print(matches)\n",
    "\n",
    "ans ['Mrs']\n",
    "\n",
    "#if \n",
    "pattern = re.compile(r'Mrs+')\n",
    "\n",
    "matches = pattern.findall('Hello Mr.Katina, How is the Mrssssssssssssss.?')\n",
    "\n",
    "print(matches)\n",
    "\n",
    "ans ['Mrsssssssssssssssssss']\n",
    "\n",
    "\n",
    "\n",
    "\n"
   ]
  },
  {
   "cell_type": "markdown",
   "metadata": {},
   "source": [
    "##### In-class exercise 1: \n",
    "\n",
    "Use a regular expression to find every number in the given string"
   ]
  },
  {
   "cell_type": "code",
   "execution_count": 34,
   "metadata": {},
   "outputs": [
    {
     "name": "stdout",
     "output_type": "stream",
     "text": [
      "['1', '0', '9', '0', '9', '0', '9', '0', '1', '2']\n"
     ]
    }
   ],
   "source": [
    "my_string = \"This string has 10909090 numbers, but it is only 1 string. I hope you solve this 2day.\"\n",
    "\n",
    "#Output: ['10909090','1',2]\n",
    "\n",
    "#answer: \n",
    "pattern = re.compile(r'[0-9]')\n",
    "\n",
    "my_string= pattern.findall(\"This string has 10909090 numbers, but it is only 1 string. I hope you solve this 2day.\")\n",
    "\n",
    "print(my_string)\n",
    "\n"
   ]
  },
  {
   "cell_type": "markdown",
   "metadata": {},
   "source": [
    "### Escaping Characters"
   ]
  },
  {
   "cell_type": "markdown",
   "metadata": {},
   "source": [
    "##### \\w - look for any Alphanumeric character<br/>\\W - look for anything that isnt a Alphanumeric character"
   ]
  },
  {
   "cell_type": "code",
   "execution_count": 36,
   "metadata": {},
   "outputs": [
    {
     "name": "stdout",
     "output_type": "stream",
     "text": [
      "['This', 'is', 'an', 'interesting', 'consept', 'that', 'takes', '120359871235', 'years', 'to', 'understand']\n"
     ]
    },
    {
     "ename": "NameError",
     "evalue": "name 'ans' is not defined",
     "output_type": "error",
     "traceback": [
      "\u001b[0;31m---------------------------------------------------------------------------\u001b[0m",
      "\u001b[0;31mNameError\u001b[0m                                 Traceback (most recent call last)",
      "\u001b[1;32m/Users/jenilljackson/Desktop/Codingtemple/thieves_133/week3/day1/Regex_Lecture_Blank.ipynb Cell 35\u001b[0m line \u001b[0;36m1\n\u001b[1;32m      <a href='vscode-notebook-cell:/Users/jenilljackson/Desktop/Codingtemple/thieves_133/week3/day1/Regex_Lecture_Blank.ipynb#X46sZmlsZQ%3D%3D?line=6'>7</a>\u001b[0m matches \u001b[39m=\u001b[39m pattern\u001b[39m.\u001b[39mfindall(\u001b[39m'\u001b[39m\u001b[39mThis is an interesting consept that takes 120359871235 years to understand\u001b[39m\u001b[39m'\u001b[39m)\n\u001b[1;32m      <a href='vscode-notebook-cell:/Users/jenilljackson/Desktop/Codingtemple/thieves_133/week3/day1/Regex_Lecture_Blank.ipynb#X46sZmlsZQ%3D%3D?line=8'>9</a>\u001b[0m \u001b[39mprint\u001b[39m(matches)\n\u001b[0;32m---> <a href='vscode-notebook-cell:/Users/jenilljackson/Desktop/Codingtemple/thieves_133/week3/day1/Regex_Lecture_Blank.ipynb#X46sZmlsZQ%3D%3D?line=10'>11</a>\u001b[0m ans [\u001b[39m'\u001b[39m\u001b[39mThis\u001b[39m\u001b[39m'\u001b[39m, \u001b[39m'\u001b[39m\u001b[39mis\u001b[39m\u001b[39m'\u001b[39m, \u001b[39m'\u001b[39m\u001b[39man\u001b[39m\u001b[39m'\u001b[39m, \u001b[39m'\u001b[39m\u001b[39minteresting\u001b[39m\u001b[39m'\u001b[39m, \u001b[39m'\u001b[39m\u001b[39mconsept\u001b[39m\u001b[39m'\u001b[39m, \u001b[39m'\u001b[39m\u001b[39mthat\u001b[39m\u001b[39m'\u001b[39m, \u001b[39m'\u001b[39m\u001b[39mtakes\u001b[39m\u001b[39m'\u001b[39m, \u001b[39m'\u001b[39m\u001b[39m120359871235\u001b[39m\u001b[39m'\u001b[39m, \u001b[39m'\u001b[39m\u001b[39myears\u001b[39m\u001b[39m'\u001b[39m, \u001b[39m'\u001b[39m\u001b[39mto\u001b[39m\u001b[39m'\u001b[39m, \u001b[39m'\u001b[39m\u001b[39munderstand\u001b[39m\u001b[39m'\u001b[39m]\n\u001b[1;32m     <a href='vscode-notebook-cell:/Users/jenilljackson/Desktop/Codingtemple/thieves_133/week3/day1/Regex_Lecture_Blank.ipynb#X46sZmlsZQ%3D%3D?line=12'>13</a>\u001b[0m \u001b[39m#if\u001b[39;00m\n\u001b[1;32m     <a href='vscode-notebook-cell:/Users/jenilljackson/Desktop/Codingtemple/thieves_133/week3/day1/Regex_Lecture_Blank.ipynb#X46sZmlsZQ%3D%3D?line=13'>14</a>\u001b[0m pattern \u001b[39m=\u001b[39m re\u001b[39m.\u001b[39mcompile(\u001b[39mr\u001b[39m\u001b[39m'\u001b[39m\u001b[39m\\\u001b[39m\u001b[39mw+\u001b[39m\u001b[39m'\u001b[39m)\n",
      "\u001b[0;31mNameError\u001b[0m: name 'ans' is not defined"
     ]
    }
   ],
   "source": [
    "#\\w looks for any letters or numbers in your string\n",
    "#\\W looks for any non-letter or number in your string\n",
    "\n",
    "#if \\w : \n",
    "pattern = re.compile(r'\\w+')\n",
    "\n",
    "matches = pattern.findall('This is an interesting consept that takes 120359871235 years to understand')\n",
    "\n",
    "print(matches)\n",
    "\n",
    "ans ['This', 'is', 'an', 'interesting', 'consept', 'that', 'takes', '120359871235', 'years', 'to', 'understand']\n",
    "\n",
    "#if\n",
    "pattern = re.compile(r'\\w+')\n",
    "\n",
    "matches = pattern.findall('This is an interesting consept that takes $100 & 120359871235 years to understand!')\n",
    "\n",
    "print(matches)\n",
    "\n",
    "ans ['This', 'is', 'an', 'interesting', 'consept', 'that', 'takes', '100', '120359871235', 'years', 'to', 'understand']\n",
    "\n",
    "#if using \\W\n",
    "pattern = re.compile(r'\\W+')\n",
    "\n",
    "matches = pattern.findall('This is an interesting consept that takes $100 & 120359871235 years to understand!')\n",
    "\n",
    "print(matches)\n",
    "\n",
    "ans = ['', '', '', '', '', '$', '&', '', '', '', '!']"
   ]
  },
  {
   "cell_type": "markdown",
   "metadata": {},
   "source": [
    "##### \\d - look for any digit 0-9<br/>\\D - look for anything that isnt a digit"
   ]
  },
  {
   "cell_type": "code",
   "execution_count": 37,
   "metadata": {},
   "outputs": [
    {
     "name": "stdout",
     "output_type": "stream",
     "text": [
      "['123', '456', '7890']\n"
     ]
    }
   ],
   "source": [
    "#\\d = only looks for digits\n",
    "#\\D = only looks for anything that is not a digit\n",
    "\n",
    "\n",
    "#if \n",
    "pattern = re.compile(r'\\d+')\n",
    "\n",
    "matches = pattern.findall('phone number = 123-456-7890')\n",
    "\n",
    "print(matches)\n",
    "\n",
    "ans ['123', '456', '7890']\n",
    "\n",
    "#if \n",
    "pattern = re.compile(r'\\D+')\n",
    "\n",
    "matches = pattern.findall('phone number = 123-456-7890')\n",
    "\n",
    "print(matches)\n",
    "\n",
    "ans ['phone','','number','', '=', '-','-']\n",
    "\n"
   ]
  },
  {
   "cell_type": "markdown",
   "metadata": {},
   "source": [
    "##### \\s - look for any white space<br/>\\S - look for anything that isnt whitespace"
   ]
  },
  {
   "cell_type": "code",
   "execution_count": 38,
   "metadata": {},
   "outputs": [
    {
     "name": "stdout",
     "output_type": "stream",
     "text": [
      "[' ', ' ', ' ', ' ', ' ', ' ', ' ']\n"
     ]
    }
   ],
   "source": [
    "#\\s = only looks for whitespace\n",
    "#\\S = only looks for anything that is not whitespace\n",
    "\n",
    "#if:\n",
    "\n",
    "pattern = re.compile(r'\\s+')\n",
    "\n",
    "matches = pattern.findall('There is whitespace here ====> and here ===>')\n",
    "\n",
    "print(matches)\n",
    "\n",
    "#if:\n",
    "\n",
    "pattern = re.compile(r'\\S+')\n",
    "\n",
    "matches = pattern.findall('There is whitespace here ====> and here ===>')\n",
    "\n",
    "print(matches)\n",
    "\n",
    "ans ['There','is', 'whitespace', 'here', '====>', 'and', 'here', '===>']\n",
    "\n",
    "\n",
    "\n",
    "\n"
   ]
  },
  {
   "cell_type": "markdown",
   "metadata": {},
   "source": [
    "### Grouping"
   ]
  },
  {
   "cell_type": "code",
   "execution_count": 41,
   "metadata": {},
   "outputs": [
    {
     "name": "stdout",
     "output_type": "stream",
     "text": [
      "Max\n",
      "Sam\n",
      "LeBron\n",
      "Micheal\n",
      "Kevin\n",
      "Patrick\n"
     ]
    }
   ],
   "source": [
    "# Group of names Regular Expression Compiler = turns strings into lists \n",
    "#Needed for Homework and Codewars\n",
    "#SPLIT  or .split()Methods\n",
    "\n",
    "my_string_again = \"Max Smith, aaron rodgers, Sam Darnold,LeBron James, Micheal Jordan, Kevin Durant, Patrick McCormick\"\n",
    "\n",
    "split_names = my_string_again.split(\",\")\n",
    "\n",
    "print(split_names)\n",
    "\n",
    "ans ['Max Smith', ' aaron rodgers', ' Sam Darnold', 'LeBron James', ' Micheal Jordan', ' Kevin Durant', ' Patrick McCormick']\n",
    "\n",
    "#if \n",
    "my_string_again = \"Max Smith, aaron rodgers, Sam Darnold,LeBron James, Micheal Jordan, Kevin Durant, Patrick McCormick\"\n",
    "\n",
    "split_names = my_string_again.split(', ')\n",
    "\n",
    "print(split_names)\n",
    "\n",
    "ans ['Max', 'Smith', 'aaron', 'rodgers', ' Sam', 'Darnold','LeBron', 'James', ' Micheal', 'Jordan', ' Kevin', 'Durant', 'Patrick', 'McCormick']\n",
    "\n",
    "\n",
    "#find all of the names written in proper casing - first names only\n",
    "pattern = re.compile(r'[A-Z][a-zA-Z]+)')\n",
    "\n",
    "for name in split_names:\n",
    "    found = pattern.search(name)\n",
    "    if found:\n",
    "        print(found.group())\n",
    "    else:\n",
    "        print('invalid name')\n",
    "\n",
    "ans Max\n",
    "    Sam\n",
    "    LeBron\n",
    "    Micheal\n",
    "    Kevin\n",
    "    Patrick\n",
    "\n",
    "#find all of the names written in proper casing - first and last names\n",
    "\n",
    "pattern = re.compile(r'[A-Z][a-zA-Z]+) ([A-Z][a-zA-Z]+)')\n",
    "\n",
    "for name in split_names:\n",
    "    found = pattern.search(name)\n",
    "    if found:\n",
    "        print(found.group())\n",
    "    else:\n",
    "        print('invalid name')\n",
    "\n",
    "ans Max Smith\n",
    "    invalid name\n",
    "    Sam Darnold\n",
    "    LaBron James\n",
    "    Michael Jordan\n",
    "    Kevin Durant\n",
    "    Patrick McCormick\n",
    "\n",
    "#if O'Malley added \n",
    "# my_string_again = \"Max Smith, aaron rodgers, Sam Darnold,LeBron James, Micheal Jordan, Kevin Durant, Patrick McCormick, Sean O'Malley\"\n",
    "\n",
    "pattern = re.compile(r\"[A-Z][a-zA-Z]+) ([A-Z]'?[a-zA-Z]+)\")\n",
    "\n",
    "for name in split_names:\n",
    "    found = pattern.search(name)\n",
    "    if found:\n",
    "        print(found.group())\n",
    "    else:\n",
    "        print('invalid name')\n",
    "\n",
    "    ans [\"Max Smith, invalid , Sam Darnold,LeBron James, Micheal Jordan, Kevin Durant, Patrick McCormick, Sean O'Malley\"]\n",
    "\n",
    "\n"
   ]
  },
  {
   "cell_type": "markdown",
   "metadata": {},
   "source": [
    "##### In-class Exercise 2:\n",
    "\n",
    "Write a function using regular expressions to find the domain name in the given email addresses (and return None for the invalid email addresses)<br><b>HINT: Use '|' for either or</b>"
   ]
  },
  {
   "cell_type": "code",
   "execution_count": 6,
   "metadata": {},
   "outputs": [
    {
     "ename": "IndentationError",
     "evalue": "unexpected indent (3751469719.py, line 2)",
     "output_type": "error",
     "traceback": [
      "\u001b[0;36m  Cell \u001b[0;32mIn[6], line 2\u001b[0;36m\u001b[0m\n\u001b[0;31m    \"yourfavoriteband@g6.org\", \"@codingsummit.com\"]\u001b[0m\n\u001b[0m    ^\u001b[0m\n\u001b[0;31mIndentationError\u001b[0m\u001b[0;31m:\u001b[0m unexpected indent\n"
     ]
    }
   ],
   "source": [
    "#my_emails = [\"thieves@codingcodingsummit.orgcom\", \"pocohontas1776@gmail.com\", \"helloworld@aol..com\",\n",
    "             \"yourfavoriteband@g6.org\", \"@codingsummit.com\"]\n",
    "\n",
    "# You can also use the $ at the end of your compile expression -- this stops the search\n",
    "\n",
    "#Expected output:\n",
    "#None\n",
    "#pocohontas1776@gmail.com\n",
    "#None\n",
    "#yourfavoriteband@g6.org\n",
    "#None\n",
    "\n",
    "\n",
    "#answers for email pattern \n",
    "\n",
    "my_emails = [\"thieves@codingcodingsummit.orgcom\", \"pocohontas1776@gmail.com\", \"helloworld@aol..com\", \"yourfavoriteband@g6.org\", \"@codingsummit.com\"]\n",
    "\n",
    "# You can also use the $ at the end of your compile expression -- this stops the search\n",
    "\n",
    "emailPattern = re.compile(r'\\w+@\\w+.(com|org|net|gov)$')\n",
    "\n",
    "match = [emailPattern.search(email) for email in my_emails]\n",
    "\n",
    "for name in match:\n",
    "    if name:\n",
    "        print(name.group())\n",
    "    else:\n",
    "        print(\"Invalid email...\")\n",
    "\n",
    "output or ans [Invalid email, pocohontas177@gmail.com, Invalid email, yourfavoriteband@g6.org, Invalid email]"
   ]
  },
  {
   "cell_type": "markdown",
   "metadata": {},
   "source": [
    "### Opening a File <br>\n",
    "<p>Python gives us a couple ways to import files, below are the two used most often.</p>"
   ]
  },
  {
   "cell_type": "markdown",
   "metadata": {},
   "source": [
    "##### open()"
   ]
  },
  {
   "cell_type": "code",
   "execution_count": 7,
   "metadata": {},
   "outputs": [
    {
     "name": "stdout",
     "output_type": "stream",
     "text": [
      "Hawkins, Derek\tderek@codingtemple.com\t(555) 555-5555\tTeacher, Coding Temple\t@derekhawkins\n",
      "Zhai, Mo\tmozhai@codingtemple.com\t(555) 555-5554\tTeacher, Coding Temple\n",
      "Johnson, Joe\tjoejohnson@codingtemple.com\t\tJohson, Joe\n",
      "Osterberg, Sven-Erik\tgovernor@norrbotten.co.se\t\tGovernor, Norrbotten\t@sverik\n",
      ", Tim\ttim@killerrabbit.com\t\tEnchanter, Killer Rabbit Cave\n",
      "Butz, Ryan\tryanb@codingtemple.com\t(555) 555-5543\tCEO, Coding Temple\t@ryanbutz\n",
      "Doctor, The\tdoctor+companion@tardis.co.uk\t\tTime Lord, Gallifrey\n",
      "Exampleson, Example\tme@example.com\t555-555-5552\tExample, Example Co.\t@example\n",
      "Pael, Ripal\tripalp@codingtemple.com\t(555) 555-5553\tTeacher, Coding Temple\t@ripalp\n",
      "Vader, Darth\tdarth-vader@empire.gov\t(555) 555-4444\tSith Lord, Galactic Empire\t@darthvader\n",
      "Fernandez de la Vega Sanz, Maria Teresa\tmtfvs@spain.gov\t\tFirst Deputy Prime Minister, Spanish Gov\n"
     ]
    }
   ],
   "source": [
    "f = open('names.txt')\n",
    "\n",
    "data = f.read()\n",
    "\n",
    "print(data)\n",
    "\n",
    "f.close()\n",
    "\n",
    "\n",
    "\n"
   ]
  },
  {
   "cell_type": "markdown",
   "metadata": {},
   "source": [
    "##### with open()"
   ]
  },
  {
   "cell_type": "code",
   "execution_count": 8,
   "metadata": {},
   "outputs": [
    {
     "name": "stdout",
     "output_type": "stream",
     "text": [
      "Hawkins, Derek\tderek@codingtemple.com\t(555) 555-5555\tTeacher, Coding Temple\t@derekhawkins\n",
      "Zhai, Mo\tmozhai@codingtemple.com\t(555) 555-5554\tTeacher, Coding Temple\n",
      "Johnson, Joe\tjoejohnson@codingtemple.com\t\tJohson, Joe\n",
      "Osterberg, Sven-Erik\tgovernor@norrbotten.co.se\t\tGovernor, Norrbotten\t@sverik\n",
      ", Tim\ttim@killerrabbit.com\t\tEnchanter, Killer Rabbit Cave\n",
      "Butz, Ryan\tryanb@codingtemple.com\t(555) 555-5543\tCEO, Coding Temple\t@ryanbutz\n",
      "Doctor, The\tdoctor+companion@tardis.co.uk\t\tTime Lord, Gallifrey\n",
      "Exampleson, Example\tme@example.com\t555-555-5552\tExample, Example Co.\t@example\n",
      "Pael, Ripal\tripalp@codingtemple.com\t(555) 555-5553\tTeacher, Coding Temple\t@ripalp\n",
      "Vader, Darth\tdarth-vader@empire.gov\t(555) 555-4444\tSith Lord, Galactic Empire\t@darthvader\n",
      "Fernandez de la Vega Sanz, Maria Teresa\tmtfvs@spain.gov\t\tFirst Deputy Prime Minister, Spanish Gov\n"
     ]
    }
   ],
   "source": [
    "with open('names.txt') as f:\n",
    "    data = f.read()\n",
    "    print(data)\n"
   ]
  },
  {
   "cell_type": "markdown",
   "metadata": {},
   "source": [
    "##### re.match()"
   ]
  },
  {
   "cell_type": "code",
   "execution_count": 18,
   "metadata": {},
   "outputs": [
    {
     "name": "stdout",
     "output_type": "stream",
     "text": [
      "Hawkins, Derek\tderek@codingtemple.com\t(555) 555-5555\tTeacher, Coding Temple\t@derekhawkins\n",
      "Zhai, Mo\tmozhai@codingtemple.com\t(555) 555-5554\tTeacher, Coding Temple\n",
      "Johnson, Joe\tjoejohnson@codingtemple.com\t\tJohson, Joe\n",
      "Osterberg, Sven-Erik\tgovernor@norrbotten.co.se\t\tGovernor, Norrbotten\t@sverik\n",
      ", Tim\ttim@killerrabbit.com\t\tEnchanter, Killer Rabbit Cave\n",
      "Butz, Ryan\tryanb@codingtemple.com\t(555) 555-5543\tCEO, Coding Temple\t@ryanbutz\n",
      "Doctor, The\tdoctor+companion@tardis.co.uk\t\tTime Lord, Gallifrey\n",
      "Exampleson, Example\tme@example.com\t555-555-5552\tExample, Example Co.\t@example\n",
      "Pael, Ripal\tripalp@codingtemple.com\t(555) 555-5553\tTeacher, Coding Temple\t@ripalp\n",
      "Vader, Darth\tdarth-vader@empire.gov\t(555) 555-4444\tSith Lord, Galactic Empire\t@darthvader\n",
      "Fernandez de la Vega Sanz, Maria Teresa\tmtfvs@spain.gov\t\tFirst Deputy Prime Minister, Spanish Gov\n"
     ]
    },
    {
     "ename": "NameError",
     "evalue": "name 're' is not defined",
     "output_type": "error",
     "traceback": [
      "\u001b[0;31m---------------------------------------------------------------------------\u001b[0m",
      "\u001b[0;31mNameError\u001b[0m                                 Traceback (most recent call last)",
      "\u001b[1;32m/Users/jenilljackson/Desktop/Codingtemple/thieves_133/week3/day1/Regex_Lecture_Blank.ipynb Cell 50\u001b[0m line \u001b[0;36m5\n\u001b[1;32m      <a href='vscode-notebook-cell:/Users/jenilljackson/Desktop/Codingtemple/thieves_133/week3/day1/Regex_Lecture_Blank.ipynb#Y100sZmlsZQ%3D%3D?line=1'>2</a>\u001b[0m     data \u001b[39m=\u001b[39m f\u001b[39m.\u001b[39mread()\n\u001b[1;32m      <a href='vscode-notebook-cell:/Users/jenilljackson/Desktop/Codingtemple/thieves_133/week3/day1/Regex_Lecture_Blank.ipynb#Y100sZmlsZQ%3D%3D?line=2'>3</a>\u001b[0m     \u001b[39mprint\u001b[39m(data)\n\u001b[0;32m----> <a href='vscode-notebook-cell:/Users/jenilljackson/Desktop/Codingtemple/thieves_133/week3/day1/Regex_Lecture_Blank.ipynb#Y100sZmlsZQ%3D%3D?line=4'>5</a>\u001b[0m pattern \u001b[39m=\u001b[39m re\u001b[39m.\u001b[39mcompile(\u001b[39mr\u001b[39m\u001b[39m'\u001b[39m\u001b[39m[A-Z][a-zA-Z]+\u001b[39m\u001b[39m'\u001b[39m)\n\u001b[1;32m      <a href='vscode-notebook-cell:/Users/jenilljackson/Desktop/Codingtemple/thieves_133/week3/day1/Regex_Lecture_Blank.ipynb#Y100sZmlsZQ%3D%3D?line=6'>7</a>\u001b[0m found \u001b[39m=\u001b[39m pattern\u001b[39m.\u001b[39mmatch(data)\n\u001b[1;32m      <a href='vscode-notebook-cell:/Users/jenilljackson/Desktop/Codingtemple/thieves_133/week3/day1/Regex_Lecture_Blank.ipynb#Y100sZmlsZQ%3D%3D?line=8'>9</a>\u001b[0m \u001b[39mprint\u001b[39m(found)\n",
      "\u001b[0;31mNameError\u001b[0m: name 're' is not defined"
     ]
    }
   ],
   "source": [
    "with open('names.txt') as f:\n",
    "    data = f.read()\n",
    "    print(data)\n",
    "\n",
    "pattern = re.compile(r'[A-Z][a-zA-Z]+')\n",
    "\n",
    "found = pattern.match(data)\n",
    "\n",
    "print(found)\n",
    "\n",
    "ans [<re.match object; span=(0,7), match='Hawkins'>]\n"
   ]
  },
  {
   "cell_type": "markdown",
   "metadata": {},
   "source": [
    "##### re.search()"
   ]
  },
  {
   "cell_type": "code",
   "execution_count": 37,
   "metadata": {},
   "outputs": [
    {
     "name": "stdout",
     "output_type": "stream",
     "text": [
      "Hawkins, Derek\tderek@codingtemple.com\t(555) 555-5555\tTeacher, Coding Temple\t@derekhawkins\n",
      "Zhai, Mo\tmozhai@codingtemple.com\t(555) 555-5554\tTeacher, Coding Temple\n",
      "Johnson, Joe\tjoejohnson@codingtemple.com\t\tJohson, Joe\n",
      "Osterberg, Sven-Erik\tgovernor@norrbotten.co.se\t\tGovernor, Norrbotten\t@sverik\n",
      ", Tim\ttim@killerrabbit.com\t\tEnchanter, Killer Rabbit Cave\n",
      "Butz, Ryan\tryanb@codingtemple.com\t(555) 555-5543\tCEO, Coding Temple\t@ryanbutz\n",
      "Doctor, The\tdoctor+companion@tardis.co.uk\t\tTime Lord, Gallifrey\n",
      "Exampleson, Example\tme@example.com\t555-555-5552\tExample, Example Co.\t@example\n",
      "Pael, Ripal\tripalp@codingtemple.com\t(555) 555-5553\tTeacher, Coding Temple\t@ripalp\n",
      "Vader, Darth\tdarth-vader@empire.gov\t(555) 555-4444\tSith Lord, Galactic Empire\t@darthvader\n",
      "Fernandez de la Vega Sanz, Maria Teresa\tmtfvs@spain.gov\t\tFirst Deputy Prime Minister, Spanish Gov\n"
     ]
    },
    {
     "ename": "NameError",
     "evalue": "name 're' is not defined",
     "output_type": "error",
     "traceback": [
      "\u001b[0;31m---------------------------------------------------------------------------\u001b[0m",
      "\u001b[0;31mNameError\u001b[0m                                 Traceback (most recent call last)",
      "\u001b[1;32m/Users/jenilljackson/Desktop/Codingtemple/thieves_133/week3/day1/Regex_Lecture_Blank.ipynb Cell 52\u001b[0m line \u001b[0;36m6\n\u001b[1;32m      <a href='vscode-notebook-cell:/Users/jenilljackson/Desktop/Codingtemple/thieves_133/week3/day1/Regex_Lecture_Blank.ipynb#Y102sZmlsZQ%3D%3D?line=2'>3</a>\u001b[0m     data \u001b[39m=\u001b[39m f\u001b[39m.\u001b[39mread()\n\u001b[1;32m      <a href='vscode-notebook-cell:/Users/jenilljackson/Desktop/Codingtemple/thieves_133/week3/day1/Regex_Lecture_Blank.ipynb#Y102sZmlsZQ%3D%3D?line=3'>4</a>\u001b[0m     \u001b[39mprint\u001b[39m(data)\n\u001b[0;32m----> <a href='vscode-notebook-cell:/Users/jenilljackson/Desktop/Codingtemple/thieves_133/week3/day1/Regex_Lecture_Blank.ipynb#Y102sZmlsZQ%3D%3D?line=5'>6</a>\u001b[0m pattern \u001b[39m=\u001b[39m re\u001b[39m.\u001b[39mcompile(\u001b[39m'\u001b[39m\u001b[39mSith Lord\u001b[39m\u001b[39m'\u001b[39m)\n\u001b[1;32m      <a href='vscode-notebook-cell:/Users/jenilljackson/Desktop/Codingtemple/thieves_133/week3/day1/Regex_Lecture_Blank.ipynb#Y102sZmlsZQ%3D%3D?line=7'>8</a>\u001b[0m found \u001b[39m=\u001b[39m pattern\u001b[39m.\u001b[39msearch(data)\n\u001b[1;32m     <a href='vscode-notebook-cell:/Users/jenilljackson/Desktop/Codingtemple/thieves_133/week3/day1/Regex_Lecture_Blank.ipynb#Y102sZmlsZQ%3D%3D?line=9'>10</a>\u001b[0m \u001b[39mprint\u001b[39m(found)\n",
      "\u001b[0;31mNameError\u001b[0m: name 're' is not defined"
     ]
    }
   ],
   "source": [
    "# will find 1st instance of pattern\n",
    "with open('names.txt') as f:\n",
    "    data = f.read()\n",
    "    print(data)\n",
    "\n",
    "pattern = re.compile('Sith Lord')\n",
    "\n",
    "found = pattern.search(data)\n",
    "\n",
    "print(found)\n",
    "\n",
    "#ans [<re.Match object; span=(703,712), match= 'Sith  Lord']"
   ]
  },
  {
   "cell_type": "markdown",
   "metadata": {},
   "source": [
    "##### Search for User-Input"
   ]
  },
  {
   "cell_type": "code",
   "execution_count": 22,
   "metadata": {},
   "outputs": [
    {
     "ename": "NameError",
     "evalue": "name 're' is not defined",
     "output_type": "error",
     "traceback": [
      "\u001b[0;31m---------------------------------------------------------------------------\u001b[0m",
      "\u001b[0;31mNameError\u001b[0m                                 Traceback (most recent call last)",
      "\u001b[1;32m/Users/jenilljackson/Desktop/Codingtemple/thieves_133/week3/day1/Regex_Lecture_Blank.ipynb Cell 54\u001b[0m line \u001b[0;36m3\n\u001b[1;32m      <a href='vscode-notebook-cell:/Users/jenilljackson/Desktop/Codingtemple/thieves_133/week3/day1/Regex_Lecture_Blank.ipynb#Y104sZmlsZQ%3D%3D?line=0'>1</a>\u001b[0m user_input \u001b[39m=\u001b[39m \u001b[39minput\u001b[39m(\u001b[39m\"\u001b[39m\u001b[39mWhat are u searching for? \u001b[39m\u001b[39m\"\u001b[39m)\n\u001b[0;32m----> <a href='vscode-notebook-cell:/Users/jenilljackson/Desktop/Codingtemple/thieves_133/week3/day1/Regex_Lecture_Blank.ipynb#Y104sZmlsZQ%3D%3D?line=2'>3</a>\u001b[0m pattern \u001b[39m=\u001b[39m re\u001b[39m.\u001b[39mcompile(user_input)\n\u001b[1;32m      <a href='vscode-notebook-cell:/Users/jenilljackson/Desktop/Codingtemple/thieves_133/week3/day1/Regex_Lecture_Blank.ipynb#Y104sZmlsZQ%3D%3D?line=4'>5</a>\u001b[0m found \u001b[39m=\u001b[39m pattern\u001b[39m.\u001b[39msearch(data)\n\u001b[1;32m      <a href='vscode-notebook-cell:/Users/jenilljackson/Desktop/Codingtemple/thieves_133/week3/day1/Regex_Lecture_Blank.ipynb#Y104sZmlsZQ%3D%3D?line=6'>7</a>\u001b[0m \u001b[39mprint\u001b[39m(found)\n",
      "\u001b[0;31mNameError\u001b[0m: name 're' is not defined"
     ]
    }
   ],
   "source": [
    "user_input = input(\"What are u searching for? \")\n",
    "\n",
    "pattern = re.compile(user_input)\n",
    "\n",
    "found = pattern.search(data)\n",
    "\n",
    "print(found)\n",
    "\n",
    "ans [<re.Match object; span=(652,664), match= 'Vader, Darth']"
   ]
  },
  {
   "cell_type": "markdown",
   "metadata": {},
   "source": [
    "### Regex project\n",
    "\n",
    "Use python to read the file regex_test.txt and print the last name on each line using regular expressions and groups (return None for names with no first and last name, or names that aren't properly capitalized)\n",
    "##### Hint: use with open() and readlines()"
   ]
  },
  {
   "cell_type": "code",
   "execution_count": 38,
   "metadata": {},
   "outputs": [
    {
     "name": "stdout",
     "output_type": "stream",
     "text": [
      "Abraham Lincoln\n",
      "Andrew P Garfield\n",
      "Connor Milliken\n",
      "Jordan Alexander Williams\n",
      "Madonna\n",
      "programming is cool\n",
      "\n"
     ]
    },
    {
     "ename": "NameError",
     "evalue": "name 're' is not defined",
     "output_type": "error",
     "traceback": [
      "\u001b[0;31m---------------------------------------------------------------------------\u001b[0m",
      "\u001b[0;31mNameError\u001b[0m                                 Traceback (most recent call last)",
      "\u001b[1;32m/Users/jenilljackson/Desktop/Codingtemple/thieves_133/week3/day1/Regex_Lecture_Blank.ipynb Cell 56\u001b[0m line \u001b[0;36m1\n\u001b[1;32m      <a href='vscode-notebook-cell:/Users/jenilljackson/Desktop/Codingtemple/thieves_133/week3/day1/Regex_Lecture_Blank.ipynb#Y106sZmlsZQ%3D%3D?line=5'>6</a>\u001b[0m \u001b[39mprint\u001b[39m(data)\n\u001b[1;32m      <a href='vscode-notebook-cell:/Users/jenilljackson/Desktop/Codingtemple/thieves_133/week3/day1/Regex_Lecture_Blank.ipynb#Y106sZmlsZQ%3D%3D?line=7'>8</a>\u001b[0m split_names \u001b[39m=\u001b[39m data\u001b[39m.\u001b[39msplit(\u001b[39m'\u001b[39m\u001b[39m\\n\u001b[39;00m\u001b[39m'\u001b[39m)\n\u001b[0;32m---> <a href='vscode-notebook-cell:/Users/jenilljackson/Desktop/Codingtemple/thieves_133/week3/day1/Regex_Lecture_Blank.ipynb#Y106sZmlsZQ%3D%3D?line=9'>10</a>\u001b[0m pattern\u001b[39m=\u001b[39m re\u001b[39m.\u001b[39mcompile_maybe_verbose(\u001b[39mr\u001b[39m\u001b[39m\"\u001b[39m\u001b[39m([A-Z][a-zA-Z]+)(|[A-Z][a-zA-Z]*)([A-Z][a-zA-Z]+$)\u001b[39m\u001b[39m\"\u001b[39m)\n\u001b[1;32m     <a href='vscode-notebook-cell:/Users/jenilljackson/Desktop/Codingtemple/thieves_133/week3/day1/Regex_Lecture_Blank.ipynb#Y106sZmlsZQ%3D%3D?line=11'>12</a>\u001b[0m \u001b[39mfor\u001b[39;00m name \u001b[39min\u001b[39;00m split_names:\n\u001b[1;32m     <a href='vscode-notebook-cell:/Users/jenilljackson/Desktop/Codingtemple/thieves_133/week3/day1/Regex_Lecture_Blank.ipynb#Y106sZmlsZQ%3D%3D?line=13'>14</a>\u001b[0m     found \u001b[39m=\u001b[39m pattern\u001b[39m.\u001b[39msearch(name)\n",
      "\u001b[0;31mNameError\u001b[0m: name 're' is not defined"
     ]
    }
   ],
   "source": [
    "from black import re_compile_maybe_verbose\n",
    "\n",
    "\n",
    "with open('regex_test.txt') as f:\n",
    "    data = f.read()\n",
    "    print(data)\n",
    "\n",
    "    split_names = data.split('\\n')\n",
    "\n",
    "    pattern= re.compile_maybe_verbose(r\"([A-Z][a-zA-Z]+)(|[A-Z][a-zA-Z]*)([A-Z][a-zA-Z]+$)\")\n",
    "\n",
    "    for name in split_names:\n",
    "    \n",
    "        found = pattern.search(name)\n",
    "        \n",
    "        if found:print(found.group())\n",
    "\n",
    "    else:print(\"None\")\n",
    "\n",
    "\n",
    "#names_split = data.split('\\n')\n",
    "\n",
    "#pattern = re.compile(r\"([A-Z][a-zA-Z]+)(| [A-Z][a-zA-Z]*)([A-Z][a-zA-Z]+$)\")\n",
    "#for name in names_split:\n",
    "#   found = pattern.search(name)\n",
    "#   if found:\n",
    "#       print(found.group())\n",
    " #   else:\n",
    "  #      print(\"None\")\n"
   ]
  },
  {
   "cell_type": "code",
   "execution_count": null,
   "metadata": {},
   "outputs": [],
   "source": []
  }
 ],
 "metadata": {
  "kernelspec": {
   "display_name": "Python 3.10.8 64-bit (microsoft store)",
   "language": "python",
   "name": "python3"
  },
  "language_info": {
   "codemirror_mode": {
    "name": "ipython",
    "version": 3
   },
   "file_extension": ".py",
   "mimetype": "text/x-python",
   "name": "python",
   "nbconvert_exporter": "python",
   "pygments_lexer": "ipython3",
   "version": "3.11.4"
  },
  "vscode": {
   "interpreter": {
    "hash": "aa82987a71ca0339a52998cd22613b0c002bda8349fa32a0cb67ceec3936a2bf"
   }
  }
 },
 "nbformat": 4,
 "nbformat_minor": 2
}
